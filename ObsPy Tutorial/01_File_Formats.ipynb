{
 "cells": [
  {
   "cell_type": "markdown",
   "metadata": {},
   "source": [
    "<div style='background-image: url(\"../share/Aerial_view_LLNL.jpg\") ; padding: 0px ; background-size: cover ; border-radius: 15px ; height: 250px; background-position: 0% 80%'>\n",
    "    <div style=\"float: right ; margin: 50px ; padding: 20px ; background: rgba(255 , 255 , 255 , 0.8) ; width: 50% ; height: 150px\">\n",
    "        <div style=\"position: relative ; top: 50% ; transform: translatey(-50%)\">\n",
    "            <div style=\"font-size: xx-large ; font-weight: 900 ; color: rgba(0 , 0 , 0 , 0.9) ; line-height: 100%\">ObsPy Tutorial</div>\n",
    "            <div style=\"font-size: large ; padding-top: 20px ; color: rgba(0 , 0 , 0 , 0.7)\">Introduction to file formats and reading/writing data with ObsPy</div>\n",
    "        </div>\n",
    "    </div>\n",
    "</div>"
   ]
  },
  {
   "cell_type": "markdown",
   "metadata": {},
   "source": [
    "### **2017 CIG-LLNL Computational Seismology Workshop**\n",
    "\n",
    "\n",
    "Seismo-Live: http://seismo-live.org\n",
    "\n",
    "##### Authors:\n",
    "* Lion Krischer ([@krischer](https://github.com/krischer))\n",
    "* Tobias Megies ([@megies](https://github.com/megies))\n",
    "---"
   ]
  },
  {
   "cell_type": "markdown",
   "metadata": {},
   "source": [
    "![](images/obspy_logo_full_524x179px.png)"
   ]
  },
  {
   "cell_type": "markdown",
   "metadata": {},
   "source": [
    "While oftentimes not taught, it is important to understand the types of data available in seismology, at least at a basic level. The notebook at hand teaches you how to use different types of seismological data in ObsPy."
   ]
  },
  {
   "cell_type": "markdown",
   "metadata": {},
   "source": [
    "**This notebook aims to give a quick introductions to ObsPy's core functions and classes. Everything here will be repeated in more detail in later notebooks.**"
   ]
  },
  {
   "cell_type": "markdown",
   "metadata": {},
   "source": [
    "Using ObsPy revolves around three central function's and the objects they return. Three types of data are classically distinguished in observational seismology and each of these map to one function in ObsPy:\n",
    "\n",
    "* `obspy.read()`: Reads waveform data to `obspy.Stream` and `obspy.Trace` objects.\n",
    "* `obspy.read_inventory()`: Reads station information to `obspy.Inventory` objects.\n",
    "* `obspy.read_events()`: Reads event data to `obspy.Catalog` objects.\n",
    "\n",
    "The specific format of each of these types of data is automatically determined, each function supports reading from URLs, various compression formats, in-memory files, and other sources. Many different file formats can also be written out again. The resulting objects enable the manipulation of the data in various ways.\n",
    "\n",
    "One of the main goals of ObsPy is to free researchers from having to worry about which format their data is coming in to be able to focus at the task at hand."
   ]
  },
  {
   "cell_type": "code",
   "execution_count": null,
   "metadata": {
    "collapsed": true
   },
   "outputs": [],
   "source": [
    "%matplotlib inline\n",
    "from __future__ import print_function\n",
    "import matplotlib.pyplot as plt\n",
    "plt.style.use('ggplot')\n",
    "plt.rcParams['figure.figsize'] = 12, 8"
   ]
  },
  {
   "cell_type": "markdown",
   "metadata": {},
   "source": [
    "## FDSN/SEED Identifiers\n",
    "\n",
    "According to the  [SEED standard](www.fdsn.org/seed_manual/SEEDManual_V2.4.pdf), which is fairly well adopted, the following nomenclature is used to identify seismic receivers:\n",
    "\n",
    "* **Network identifier**: Identifies the network/owner of the data. Assigned by the FDSN and thus unique.\n",
    "* **Station identifier**: The station within a network. *NOT UNIQUE IN PRACTICE!* Always use together with a network code!\n",
    "* **Location identifer**: Identifies different data streams within one station. Commonly used to logically separate multiple instruments at a single station.\n",
    "* **Channel identifier**: Three character code: 1) Band and approximate sampling rate, 2) The type of instrument, 3) The orientation\n",
    "\n",
    "This results in full ids of the form **NET.STA.LOC.CHA**, e.g. **BK.HELL.00.BHZ**. *(ObsPy uses this ordering, putting the station identifier first is also fairly common in other packages.)*\n",
    "\n",
    "\n",
    "---\n",
    "\n",
    "\n",
    "In seismology we generally distinguish between three separate types of data:\n",
    "\n",
    "1. **Waveform Data** - The actual waveforms as time series.\n",
    "2. **Station Data** - Information about the stations' operators, geographical locations, and the instruments' responses.\n",
    "3. **Event Data** - Information about earthquakes and other seismic sources.\n",
    "\n",
    "Some formats have elements of two or more of these."
   ]
  },
  {
   "cell_type": "markdown",
   "metadata": {},
   "source": [
    "## Waveform Data\n",
    "\n",
    "![stream](images/Stream_Trace.svg)\n",
    "\n",
    "There are a myriad of waveform data formats, but in Europe and the USA, two formats dominate: **MiniSEED** and **SAC**\n",
    "\n",
    "\n",
    "### MiniSEED\n",
    "\n",
    "* This is what you get from datacenters and usually also what they store, thus the original data\n",
    "* Most useful as a streaming and archival format\n",
    "* Can store integers and single/double precision floats\n",
    "* Integer data (e.g. counts from a digitizer) are heavily compressed: a factor of 3-5 depending on the data\n",
    "* Can deal with gaps and overlaps\n",
    "* Multiple components per file\n",
    "* Contains only the really necessary parameters and some information for the network operators and data providers"
   ]
  },
  {
   "cell_type": "code",
   "execution_count": null,
   "metadata": {},
   "outputs": [],
   "source": [
    "# To use ObsPy, you always have to import it first.\n",
    "import obspy\n",
    "\n",
    "# ObsPy automatically detects the file format. ALWAYS\n",
    "# (no matter the data format) results in Stream object.\n",
    "st = obspy.read(\"data/example.mseed\")\n",
    "\n",
    "# Printing an object usually results in some kind of\n",
    "# informative string.\n",
    "print(st)"
   ]
  },
  {
   "cell_type": "code",
   "execution_count": null,
   "metadata": {},
   "outputs": [],
   "source": [
    "# Format specific information is an attribute named \n",
    "# after the format.\n",
    "print(st[0].stats.mseed)"
   ]
  },
  {
   "cell_type": "code",
   "execution_count": null,
   "metadata": {},
   "outputs": [],
   "source": [
    "# Use the .plot() method for a quick preview plot.\n",
    "st.plot()"
   ]
  },
  {
   "cell_type": "code",
   "execution_count": null,
   "metadata": {},
   "outputs": [],
   "source": [
    "# This is a quick interlude to teach you the basics of how to work\n",
    "# with Stream/Trace objects.\n",
    "\n",
    "# Most operations work in-place, e.g. they modify the existing\n",
    "# objects. This is done for performance reasons and to match\n",
    "# typical seismological workflows.\n",
    "\n",
    "# We'll create a copy here - otherwise multiple executions of this\n",
    "# notebook cell will keep modifying the data - one of the caveats\n",
    "# of the notebooks.\n",
    "st2 = st.copy()\n",
    "\n",
    "# To use only parts of a Stream, use the select() function.\n",
    "print(st2.select(component=\"Z\"))\n",
    "\n",
    "# Stream objects behave like a list of Trace objects.\n",
    "tr = st2[0]\n",
    "\n",
    "# Plotting also works for single traces.\n",
    "tr.plot()\n",
    "\n",
    "# Some basic processing. Please note that these modify the\n",
    "# existing object.\n",
    "tr.detrend(\"linear\")\n",
    "tr.taper(type=\"hann\", max_percentage=0.05)\n",
    "tr.filter(\"lowpass\", freq=0.05, corners=4)\n",
    "\n",
    "# Plot again.\n",
    "tr.plot()"
   ]
  },
  {
   "cell_type": "code",
   "execution_count": null,
   "metadata": {
    "collapsed": true
   },
   "outputs": [],
   "source": [
    "# You can write it again by simply specifing the format.\n",
    "st.write(\"temp.mseed\", format=\"mseed\")"
   ]
  },
  {
   "cell_type": "markdown",
   "metadata": {},
   "source": [
    "### SAC\n",
    "\n",
    "* Custom format of the `SAC` code.\n",
    "* Simple header and single precision floating point data.\n",
    "* Only a single component per file and no concept of gaps/overlaps.\n",
    "* Used a lot due to `SAC` being very popular and the additional basic information that can be stored in the header.\n",
    "* ObsPy internally uses a `SACTrace` object to do this which can also be directly used if full control over SAC files is desired/necessary."
   ]
  },
  {
   "cell_type": "code",
   "execution_count": null,
   "metadata": {},
   "outputs": [],
   "source": [
    "st = obspy.read(\"data/example.sac\")\n",
    "print(st)\n",
    "# SAC specific information is stored in\n",
    "# the .sac attribute.\n",
    "st[0].stats.sac.__dict__"
   ]
  },
  {
   "cell_type": "code",
   "execution_count": null,
   "metadata": {},
   "outputs": [],
   "source": [
    "st.plot()"
   ]
  },
  {
   "cell_type": "code",
   "execution_count": null,
   "metadata": {
    "collapsed": true
   },
   "outputs": [],
   "source": [
    "# You can once again write it with the write() method.\n",
    "st.write(\"temp.sac\", format=\"sac\")"
   ]
  },
  {
   "cell_type": "markdown",
   "metadata": {},
   "source": [
    "## Station Data\n",
    "\n",
    "![inv](images/Inventory.svg)\n",
    "\n",
    "Station data contains information about the organziation that collections the data, geographical information, as well as the instrument response. It mainly comes in three formats:\n",
    "\n",
    "* `(dataless)SEED`: Very complete but a complex binary format. Still used a lot, e.g. for the Arclink protocol\n",
    "* `RESP`: A strict subset of SEED. ASCII based. Contains **ONLY** the response.\n",
    "* `StationXML`: Essentially like SEED but cleaner and based on XML. Most modern format and what the datacenters nowadays serve. **Use this if you can.**\n",
    "\n",
    "\n",
    "ObsPy can work with all of them in the same fashion, but today we will focus on StationXML."
   ]
  },
  {
   "cell_type": "markdown",
   "metadata": {},
   "source": [
    "They are XML files:"
   ]
  },
  {
   "cell_type": "code",
   "execution_count": null,
   "metadata": {},
   "outputs": [],
   "source": [
    "!head data/all_stations.xml"
   ]
  },
  {
   "cell_type": "code",
   "execution_count": null,
   "metadata": {},
   "outputs": [],
   "source": [
    "import obspy\n",
    "\n",
    "# Use the read_inventory function to open them. This function\n",
    "# will return Inventory objects.\n",
    "inv = obspy.read_inventory(\"data/all_stations.xml\")\n",
    "print(inv)"
   ]
  },
  {
   "cell_type": "markdown",
   "metadata": {},
   "source": [
    "You can see that they can contain an arbitrary number of networks, stations, and channels."
   ]
  },
  {
   "cell_type": "code",
   "execution_count": null,
   "metadata": {},
   "outputs": [],
   "source": [
    "# ObsPy is also able to plot a map of them.\n",
    "inv.plot(projection=\"local\");"
   ]
  },
  {
   "cell_type": "code",
   "execution_count": null,
   "metadata": {},
   "outputs": [],
   "source": [
    "# As well as a plot the instrument response.\n",
    "inv.select(network=\"BK\", station=\"HELL\").plot_response(0.001);"
   ]
  },
  {
   "cell_type": "code",
   "execution_count": null,
   "metadata": {},
   "outputs": [],
   "source": [
    "# Coordinates of single channels can also be extraced. This function\n",
    "# also takes a datetime arguments to extract information at different\n",
    "# points in time.\n",
    "inv.get_coordinates(\"BK.HELL.00.BHZ\")"
   ]
  },
  {
   "cell_type": "code",
   "execution_count": null,
   "metadata": {
    "collapsed": true
   },
   "outputs": [],
   "source": [
    "# And it can naturally be written again, also in a modified state.\n",
    "inv.select(channel=\"BHZ\").write(\"temp.xml\", format=\"stationxml\")"
   ]
  },
  {
   "cell_type": "markdown",
   "metadata": {},
   "source": [
    "## Event Data\n",
    "\n",
    "![events](./images/Event.svg)\n",
    "\n",
    "Event data is often served in very simple formats like NDK or the CMTSOLUTION format used by many waveform solvers:"
   ]
  },
  {
   "cell_type": "code",
   "execution_count": null,
   "metadata": {},
   "outputs": [],
   "source": [
    "!cat data/GCMT_2014_08_24__Mw_6_1"
   ]
  },
  {
   "cell_type": "markdown",
   "metadata": {},
   "source": [
    "Datacenters on the hand offer **QuakeML** files, which are surprisingly complex in structure but can store detailed relations between pieces of data."
   ]
  },
  {
   "cell_type": "code",
   "execution_count": null,
   "metadata": {},
   "outputs": [],
   "source": [
    "# Read QuakeML files with the read_events() function.\n",
    "cat = obspy.read_events(\"data/GCMT_2014_08_24__Mw_6_1.xml\")\n",
    "print(cat)"
   ]
  },
  {
   "cell_type": "code",
   "execution_count": null,
   "metadata": {},
   "outputs": [],
   "source": [
    "print(cat[0])"
   ]
  },
  {
   "cell_type": "code",
   "execution_count": null,
   "metadata": {},
   "outputs": [],
   "source": [
    "cat.plot(projection=\"ortho\");"
   ]
  },
  {
   "cell_type": "code",
   "execution_count": null,
   "metadata": {
    "collapsed": true
   },
   "outputs": [],
   "source": [
    "# Once again they can be written with the write() function.\n",
    "cat.write(\"temp_quake.xml\", format=\"quakeml\")"
   ]
  },
  {
   "cell_type": "markdown",
   "metadata": {},
   "source": [
    "To show off some more things, I added a file containing all events the USGS has for a three degree radius around Livermore for the last three years."
   ]
  },
  {
   "cell_type": "code",
   "execution_count": null,
   "metadata": {},
   "outputs": [],
   "source": [
    "import obspy\n",
    "\n",
    "cat = obspy.read_events(\"data/last_three_years_around_livermore.zmap\")\n",
    "\n",
    "print(cat)"
   ]
  },
  {
   "cell_type": "code",
   "execution_count": null,
   "metadata": {},
   "outputs": [],
   "source": [
    "cat.plot(projection=\"local\", resolution=\"i\");"
   ]
  },
  {
   "cell_type": "code",
   "execution_count": null,
   "metadata": {},
   "outputs": [],
   "source": [
    "cat.filter(\"magnitude > 3\")"
   ]
  }
 ],
 "metadata": {
  "kernelspec": {
   "display_name": "Python 3",
   "language": "python",
   "name": "python3"
  },
  "language_info": {
   "codemirror_mode": {
    "name": "ipython",
    "version": 3
   },
   "file_extension": ".py",
   "mimetype": "text/x-python",
   "name": "python",
   "nbconvert_exporter": "python",
   "pygments_lexer": "ipython3",
   "version": "3.6.2"
  }
 },
 "nbformat": 4,
 "nbformat_minor": 1
}
