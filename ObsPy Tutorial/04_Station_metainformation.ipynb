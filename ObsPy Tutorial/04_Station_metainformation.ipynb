{
 "cells": [
  {
   "cell_type": "markdown",
   "metadata": {},
   "source": [
    "<div style='background-image: url(\"../share/baku.jpg\") ; padding: 0px ; background-size: cover ; border-radius: 15px ; height: 250px; background-position: 0% 80%'>\n",
    "    <div style=\"float: right ; margin: 50px ; padding: 20px ; background: rgba(255 , 255 , 255 , 0.9) ; width: 50% ; height: 150px\">\n",
    "        <div style=\"position: relative ; top: 50% ; transform: translatey(-50%)\">\n",
    "            <div style=\"font-size: xx-large ; font-weight: 900 ; color: rgba(0 , 0 , 0 , 0.9) ; line-height: 100%\">ObsPy Tutorial</div>\n",
    "            <div style=\"font-size: large ; padding-top: 20px ; color: rgba(0 , 0 , 0 , 0.7)\">Handling Station Metadata</div>\n",
    "        </div>\n",
    "    </div>\n",
    "</div>\n",
    "image: User:Abbaszade656 / Wikimedia Commons / <a href=\"http://creativecommons.org/licenses/by-sa/4.0/\">CC-BY-SA-4.0</a>"
   ]
  },
  {
   "cell_type": "markdown",
   "metadata": {},
   "source": [
    "## Workshop for the \"Training in Network Management Systems and Analytical Tools for Seismic\"\n",
    "### Baku, October 2018\n",
    "\n",
    "Seismo-Live: http://seismo-live.org\n",
    "\n",
    "##### Authors:\n",
    "* Lion Krischer ([@krischer](https://github.com/krischer))\n",
    "* Tobias Megies ([@megies](https://github.com/megies))\n",
    "---"
   ]
  },
  {
   "cell_type": "markdown",
   "metadata": {},
   "source": [
    "![](images/obspy_logo_full_524x179px.png)"
   ]
  },
  {
   "cell_type": "code",
   "execution_count": null,
   "metadata": {
    "collapsed": true
   },
   "outputs": [],
   "source": [
    "%matplotlib inline\n",
    "from __future__ import print_function\n",
    "import matplotlib.pyplot as plt\n",
    "plt.style.use('ggplot')\n",
    "plt.rcParams['figure.figsize'] = 12, 8"
   ]
  },
  {
   "cell_type": "markdown",
   "metadata": {},
   "source": [
    "- for station metadata, the de-facto standard of the future (replacing SEED/RESP) is [FDSN StationXML](http://www.fdsn.org/xml/station/)\n",
    "- FDSN StationXML files can be read using **`read_inventory()`**"
   ]
  },
  {
   "cell_type": "code",
   "execution_count": null,
   "metadata": {
    "collapsed": true
   },
   "outputs": [],
   "source": [
    "import obspy\n",
    "\n",
    "inventory = obspy.read_inventory(\"./data/station_PFO.xml\")\n",
    "print(type(inventory))"
   ]
  },
  {
   "cell_type": "markdown",
   "metadata": {},
   "source": [
    "- the nested ObsPy Inventory class structure (Inventory/Station/Channel/Response/...) is closely modelled after FDSN StationXML\n",
    "<img src=\"images/Inventory.svg\" width=90%>"
   ]
  },
  {
   "cell_type": "code",
   "execution_count": null,
   "metadata": {
    "collapsed": true
   },
   "outputs": [],
   "source": [
    "!head data/station_BFO.xml"
   ]
  },
  {
   "cell_type": "code",
   "execution_count": null,
   "metadata": {
    "collapsed": true
   },
   "outputs": [],
   "source": [
    "print(inventory)"
   ]
  },
  {
   "cell_type": "code",
   "execution_count": null,
   "metadata": {
    "collapsed": true
   },
   "outputs": [],
   "source": [
    "network = inventory[0]\n",
    "print(network)"
   ]
  },
  {
   "cell_type": "code",
   "execution_count": null,
   "metadata": {
    "collapsed": true
   },
   "outputs": [],
   "source": [
    "station = network[0]\n",
    "print(station)"
   ]
  },
  {
   "cell_type": "code",
   "execution_count": null,
   "metadata": {
    "collapsed": true
   },
   "outputs": [],
   "source": [
    "channel = station[0]\n",
    "print(channel)"
   ]
  },
  {
   "cell_type": "code",
   "execution_count": null,
   "metadata": {
    "collapsed": true
   },
   "outputs": [],
   "source": [
    "print(channel.response)"
   ]
  },
  {
   "cell_type": "code",
   "execution_count": null,
   "metadata": {
    "collapsed": true
   },
   "outputs": [],
   "source": [
    "st = obspy.read(\"./data/waveform_PFO.mseed\")\n",
    "print(st)"
   ]
  },
  {
   "cell_type": "code",
   "execution_count": null,
   "metadata": {
    "collapsed": true
   },
   "outputs": [],
   "source": [
    "inv = obspy.read_inventory(\"./data/station_PFO.xml\", format=\"STATIONXML\")"
   ]
  },
  {
   "cell_type": "code",
   "execution_count": null,
   "metadata": {
    "collapsed": true
   },
   "outputs": [],
   "source": [
    "print(st[0].stats)"
   ]
  },
  {
   "cell_type": "markdown",
   "metadata": {},
   "source": [
    "- the instrument response can be deconvolved from the waveform data using the convenience method **`Stream.remove_response()`**\n",
    "- evalresp is used internally to calculate the instrument response"
   ]
  },
  {
   "cell_type": "code",
   "execution_count": null,
   "metadata": {
    "collapsed": true
   },
   "outputs": [],
   "source": [
    "st.plot()\n",
    "st.remove_response(inventory=inv)\n",
    "st.plot()"
   ]
  },
  {
   "cell_type": "markdown",
   "metadata": {},
   "source": [
    "- several options can be used to specify details of the deconvolution (water level, frequency domain prefiltering), output units (velocity/displacement/acceleration), demeaning, tapering and to specify if any response stages should be omitted"
   ]
  },
  {
   "cell_type": "code",
   "execution_count": null,
   "metadata": {
    "collapsed": true
   },
   "outputs": [],
   "source": [
    "st = obspy.read(\"./data/waveform_PFO.mseed\")\n",
    "st.remove_response(inventory=inv, water_level=60, pre_filt=(0.01, 0.02, 8, 10), output=\"DISP\")\n",
    "st.plot()"
   ]
  },
  {
   "cell_type": "markdown",
   "metadata": {},
   "source": [
    "Finally, if station metadata is not available from the operator or from the data center serving the data, or in case of temporary station deployments and field campaigns, full station metadata can be assembled using ObsPy, including response information gathered from the [IRIS Nominal Response Library (NRL)](http://ds.iris.edu/NRL/):\n",
    "<img src=\"images/nrl.png\" width=70%>"
   ]
  },
  {
   "cell_type": "code",
   "execution_count": null,
   "metadata": {},
   "outputs": [],
   "source": [
    "import obspy\n",
    "from obspy.core.inventory import Inventory, Network, Station, Channel, Site\n",
    "from obspy.clients.nrl.client import NRL\n",
    "\n",
    "\n",
    "# We'll first create all the various objects. These strongly follow the\n",
    "# hierarchy of StationXML files.\n",
    "inv = Inventory(\n",
    "    # We'll add networks later.\n",
    "    networks=[],\n",
    "    # The source should be the id whoever create the file.\n",
    "    source=\"ObsPy-Tutorial\")\n",
    "\n",
    "net = Network(\n",
    "    # This is the network code according to the SEED standard.\n",
    "    code=\"XX\",\n",
    "    # A list of stations. We'll add one later.\n",
    "    stations=[],\n",
    "    description=\"A test stations.\",\n",
    "    # Start-and end dates are optional.\n",
    "    start_date=obspy.UTCDateTime(2016, 1, 2))\n",
    "\n",
    "sta = Station(\n",
    "    # This is the station code according to the SEED standard.\n",
    "    code=\"ABC\",\n",
    "    latitude=1.0,\n",
    "    longitude=2.0,\n",
    "    elevation=345.0,\n",
    "    creation_date=obspy.UTCDateTime(2016, 1, 2),\n",
    "    site=Site(name=\"First station\"))\n",
    "\n",
    "cha = Channel(\n",
    "    # This is the channel code according to the SEED standard.\n",
    "    code=\"HHZ\",\n",
    "    # This is the location code according to the SEED standard.\n",
    "    location_code=\"\",\n",
    "    # Note that these coordinates can differ from the station coordinates.\n",
    "    latitude=1.0,\n",
    "    longitude=2.0,\n",
    "    elevation=345.0,\n",
    "    depth=10.0,\n",
    "    azimuth=0.0,\n",
    "    dip=-90.0,\n",
    "    sample_rate=200)\n",
    "\n",
    "# By default this accesses the always up-to-date NRL online.\n",
    "# Offline copies of the NRL can also be used instead.\n",
    "nrl = NRL()\n",
    "# The contents of the NRL can be explored interactively in a Python prompt,\n",
    "# see API documentation of NRL submodule:\n",
    "# http://docs.obspy.org/packages/obspy.clients.nrl.html\n",
    "# Here we assume that the end point of data logger and sensor are already\n",
    "# known:\n",
    "response = nrl.get_response( # doctest: +SKIP\n",
    "    sensor_keys=['Nanometrics', 'Trillium Compact', '120 s'],\n",
    "    datalogger_keys=['REF TEK', 'RT 130 & 130-SMA', '1', '200'])\n",
    "\n",
    "\n",
    "# Now tie it all together.\n",
    "cha.response = response\n",
    "sta.channels.append(cha)\n",
    "net.stations.append(sta)\n",
    "inv.networks.append(net)\n",
    "\n",
    "# And finally write it to a StationXML file. We also force a validation against\n",
    "# the StationXML schema to ensure it produces a valid StationXML file.\n",
    "#\n",
    "# Note that it is also possible to serialize to any of the other inventory\n",
    "# output formats ObsPy supports.\n",
    "print(inv)\n",
    "print(inv[0][0][0])\n",
    "inv.write(\"station.xml\", format=\"stationxml\", validate=True)"
   ]
  },
  {
   "cell_type": "code",
   "execution_count": null,
   "metadata": {},
   "outputs": [],
   "source": [
    "cha = inv[0][0][0]\n",
    "\n",
    "cha.plot(min_freq=0.001)\n",
    "print(cha)"
   ]
  },
  {
   "cell_type": "markdown",
   "metadata": {},
   "source": [
    "The contents of the NRL can be inspected in an interactive shell:"
   ]
  },
  {
   "cell_type": "code",
   "execution_count": null,
   "metadata": {},
   "outputs": [],
   "source": [
    "nrl.sensors"
   ]
  },
  {
   "cell_type": "code",
   "execution_count": null,
   "metadata": {},
   "outputs": [],
   "source": [
    "nrl.sensors['Streckeisen']"
   ]
  },
  {
   "cell_type": "code",
   "execution_count": null,
   "metadata": {},
   "outputs": [],
   "source": [
    "nrl.dataloggers"
   ]
  }
 ],
 "metadata": {
  "kernelspec": {
   "display_name": "Python 3",
   "language": "python",
   "name": "python3"
  },
  "language_info": {
   "codemirror_mode": {
    "name": "ipython",
    "version": 3
   },
   "file_extension": ".py",
   "mimetype": "text/x-python",
   "name": "python",
   "nbconvert_exporter": "python",
   "pygments_lexer": "ipython3",
   "version": "3.6.2"
  }
 },
 "nbformat": 4,
 "nbformat_minor": 1
}
